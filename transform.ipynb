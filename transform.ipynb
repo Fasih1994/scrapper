{
 "cells": [
  {
   "cell_type": "code",
   "execution_count": 1,
   "metadata": {},
   "outputs": [],
   "source": [
    "import pandas as pd"
   ]
  },
  {
   "cell_type": "code",
   "execution_count": 2,
   "metadata": {},
   "outputs": [],
   "source": [
    "df = pd.read_excel('standard map.xlsx')"
   ]
  },
  {
   "cell_type": "code",
   "execution_count": 3,
   "metadata": {},
   "outputs": [
    {
     "data": {
      "text/html": [
       "<div>\n",
       "<style scoped>\n",
       "    .dataframe tbody tr th:only-of-type {\n",
       "        vertical-align: middle;\n",
       "    }\n",
       "\n",
       "    .dataframe tbody tr th {\n",
       "        vertical-align: top;\n",
       "    }\n",
       "\n",
       "    .dataframe thead th {\n",
       "        text-align: right;\n",
       "    }\n",
       "</style>\n",
       "<table border=\"1\" class=\"dataframe\">\n",
       "  <thead>\n",
       "    <tr style=\"text-align: right;\">\n",
       "      <th></th>\n",
       "      <th>Certification</th>\n",
       "      <th>Origin Countries</th>\n",
       "      <th>Destination Countries</th>\n",
       "      <th>Product</th>\n",
       "      <th>Sector</th>\n",
       "      <th>Unnamed: 5</th>\n",
       "      <th>Unnamed: 6</th>\n",
       "      <th>Unnamed: 7</th>\n",
       "      <th>Unnamed: 8</th>\n",
       "      <th>Unnamed: 9</th>\n",
       "    </tr>\n",
       "  </thead>\n",
       "  <tbody>\n",
       "    <tr>\n",
       "      <th>0</th>\n",
       "      <td>A.I.S.E</td>\n",
       "      <td>Albania, Andorra, Armenia, Austria, Belarus, B...</td>\n",
       "      <td>Albania, Andorra, Armenia, Austria, Belarus, B...</td>\n",
       "      <td>Cosmetics, Detergents</td>\n",
       "      <td>Manufactured products</td>\n",
       "      <td>A.I.S.E. is the International Association for ...</td>\n",
       "      <td>NaN</td>\n",
       "      <td>NaN</td>\n",
       "      <td>NaN</td>\n",
       "      <td>NaN</td>\n",
       "    </tr>\n",
       "  </tbody>\n",
       "</table>\n",
       "</div>"
      ],
      "text/plain": [
       "  Certification                                   Origin Countries  \\\n",
       "0       A.I.S.E  Albania, Andorra, Armenia, Austria, Belarus, B...   \n",
       "\n",
       "                               Destination Countries                Product  \\\n",
       "0  Albania, Andorra, Armenia, Austria, Belarus, B...  Cosmetics, Detergents   \n",
       "\n",
       "                  Sector                                         Unnamed: 5  \\\n",
       "0  Manufactured products  A.I.S.E. is the International Association for ...   \n",
       "\n",
       "  Unnamed: 6 Unnamed: 7 Unnamed: 8 Unnamed: 9  \n",
       "0        NaN        NaN        NaN        NaN  "
      ]
     },
     "execution_count": 3,
     "metadata": {},
     "output_type": "execute_result"
    }
   ],
   "source": [
    "df.head(1)"
   ]
  },
  {
   "cell_type": "code",
   "execution_count": 9,
   "metadata": {},
   "outputs": [],
   "source": [
    "data_dict = {\n",
    "    \"Company\": [],\n",
    "    \"from_country\": [],\n",
    "    \"to_countries\": [],\n",
    "    \"Product\": [],\n",
    "}\n",
    "for index in df.index:\n",
    "    to_countries = df.iloc[index,2]\n",
    "    from_countries = df.iloc[index,1]\n",
    "    certification = df.iloc[index,0]\n",
    "    products = df.iloc[index,3]\n",
    "\n",
    "    if isinstance(to_countries, str) and isinstance(from_countries, str):\n",
    "        from_countries = from_countries.split(',')\n",
    "        for from_country in from_countries:\n",
    "            data_dict[\"Company\"].append(certification)\n",
    "            data_dict[\"from_country\"].append(from_country)\n",
    "            data_dict[\"to_countries\"].append(to_countries)\n",
    "            data_dict[\"Product\"].append(products)\n"
   ]
  },
  {
   "cell_type": "code",
   "execution_count": 10,
   "metadata": {},
   "outputs": [],
   "source": [
    "final_df = pd.DataFrame(data_dict)"
   ]
  },
  {
   "cell_type": "code",
   "execution_count": 11,
   "metadata": {},
   "outputs": [
    {
     "data": {
      "text/html": [
       "<div>\n",
       "<style scoped>\n",
       "    .dataframe tbody tr th:only-of-type {\n",
       "        vertical-align: middle;\n",
       "    }\n",
       "\n",
       "    .dataframe tbody tr th {\n",
       "        vertical-align: top;\n",
       "    }\n",
       "\n",
       "    .dataframe thead th {\n",
       "        text-align: right;\n",
       "    }\n",
       "</style>\n",
       "<table border=\"1\" class=\"dataframe\">\n",
       "  <thead>\n",
       "    <tr style=\"text-align: right;\">\n",
       "      <th></th>\n",
       "      <th>Company</th>\n",
       "      <th>from_country</th>\n",
       "      <th>to_countries</th>\n",
       "      <th>Product</th>\n",
       "    </tr>\n",
       "  </thead>\n",
       "  <tbody>\n",
       "    <tr>\n",
       "      <th>0</th>\n",
       "      <td>A.I.S.E</td>\n",
       "      <td>Albania</td>\n",
       "      <td>Albania, Andorra, Armenia, Austria, Belarus, B...</td>\n",
       "      <td>Cosmetics, Detergents</td>\n",
       "    </tr>\n",
       "    <tr>\n",
       "      <th>1</th>\n",
       "      <td>A.I.S.E</td>\n",
       "      <td>Andorra</td>\n",
       "      <td>Albania, Andorra, Armenia, Austria, Belarus, B...</td>\n",
       "      <td>Cosmetics, Detergents</td>\n",
       "    </tr>\n",
       "    <tr>\n",
       "      <th>2</th>\n",
       "      <td>A.I.S.E</td>\n",
       "      <td>Armenia</td>\n",
       "      <td>Albania, Andorra, Armenia, Austria, Belarus, B...</td>\n",
       "      <td>Cosmetics, Detergents</td>\n",
       "    </tr>\n",
       "    <tr>\n",
       "      <th>3</th>\n",
       "      <td>A.I.S.E</td>\n",
       "      <td>Austria</td>\n",
       "      <td>Albania, Andorra, Armenia, Austria, Belarus, B...</td>\n",
       "      <td>Cosmetics, Detergents</td>\n",
       "    </tr>\n",
       "    <tr>\n",
       "      <th>4</th>\n",
       "      <td>A.I.S.E</td>\n",
       "      <td>Belarus</td>\n",
       "      <td>Albania, Andorra, Armenia, Austria, Belarus, B...</td>\n",
       "      <td>Cosmetics, Detergents</td>\n",
       "    </tr>\n",
       "  </tbody>\n",
       "</table>\n",
       "</div>"
      ],
      "text/plain": [
       "   Company from_country                                       to_countries  \\\n",
       "0  A.I.S.E      Albania  Albania, Andorra, Armenia, Austria, Belarus, B...   \n",
       "1  A.I.S.E      Andorra  Albania, Andorra, Armenia, Austria, Belarus, B...   \n",
       "2  A.I.S.E      Armenia  Albania, Andorra, Armenia, Austria, Belarus, B...   \n",
       "3  A.I.S.E      Austria  Albania, Andorra, Armenia, Austria, Belarus, B...   \n",
       "4  A.I.S.E      Belarus  Albania, Andorra, Armenia, Austria, Belarus, B...   \n",
       "\n",
       "                 Product  \n",
       "0  Cosmetics, Detergents  \n",
       "1  Cosmetics, Detergents  \n",
       "2  Cosmetics, Detergents  \n",
       "3  Cosmetics, Detergents  \n",
       "4  Cosmetics, Detergents  "
      ]
     },
     "execution_count": 11,
     "metadata": {},
     "output_type": "execute_result"
    }
   ],
   "source": [
    "final_df.head()"
   ]
  },
  {
   "cell_type": "code",
   "execution_count": null,
   "metadata": {},
   "outputs": [],
   "source": [
    "final_df.to_csv('result.csv')"
   ]
  }
 ],
 "metadata": {
  "kernelspec": {
   "display_name": "venv",
   "language": "python",
   "name": "python3"
  },
  "language_info": {
   "codemirror_mode": {
    "name": "ipython",
    "version": 3
   },
   "file_extension": ".py",
   "mimetype": "text/x-python",
   "name": "python",
   "nbconvert_exporter": "python",
   "pygments_lexer": "ipython3",
   "version": "3.10.12"
  }
 },
 "nbformat": 4,
 "nbformat_minor": 2
}
